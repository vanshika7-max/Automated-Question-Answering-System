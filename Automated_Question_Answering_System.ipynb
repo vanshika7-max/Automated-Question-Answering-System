{
  "nbformat": 4,
  "nbformat_minor": 0,
  "metadata": {
    "colab": {
      "name": "Automated-Question-Answering-System.ipynb",
      "provenance": [],
      "authorship_tag": "ABX9TyO2MjRR3S5So57lPbhDts8U",
      "include_colab_link": true
    },
    "kernelspec": {
      "name": "python3",
      "display_name": "Python 3"
    },
    "language_info": {
      "name": "python"
    }
  },
  "cells": [
    {
      "cell_type": "markdown",
      "metadata": {
        "id": "view-in-github",
        "colab_type": "text"
      },
      "source": [
        "<a href=\"https://colab.research.google.com/github/vanshika7-max/Automated-Question-Answering-System/blob/main/Automated_Question_Answering_System.ipynb\" target=\"_parent\"><img src=\"https://colab.research.google.com/assets/colab-badge.svg\" alt=\"Open In Colab\"/></a>"
      ]
    },
    {
      "cell_type": "markdown",
      "metadata": {
        "id": "Tm7Wwi_c8aRw"
      },
      "source": [
        "1. Problem Statement\n",
        "We will solve the above-mentioned challenge by applying deep learning algorithms to textual data.\n",
        "The solution to this problem can be obtained through Extractive Question Answering wherein we can\n",
        "extract an answer from a text given the question.\n",
        "2. Topic Modelling\n",
        "This is a theme extraction task on a collection of Data Science specific documents which can be done\n",
        "via Latent Dirichlet Allocation (LDA). The topic model should identify the important themes of a\n",
        "document and list down the top-N constituent words of the themes/topics.\n",
        "3. Extractive Question Answering\n",
        "Extractive Question Answering is the task of extracting an answer from a text given a question. The\n",
        "text would essentially be the group of documents that have the highest concentration of the topic\n",
        "closest to the asked question.\n"
      ]
    },
    {
      "cell_type": "markdown",
      "metadata": {
        "id": "2hK3sgVX8aI7"
      },
      "source": [
        ""
      ]
    },
    {
      "cell_type": "code",
      "metadata": {
        "id": "uD5BICkS8U0F"
      },
      "source": [
        ""
      ],
      "execution_count": null,
      "outputs": []
    }
  ]
}